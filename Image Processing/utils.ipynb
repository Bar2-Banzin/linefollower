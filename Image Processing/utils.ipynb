{
 "cells": [
  {
   "cell_type": "code",
   "execution_count": 1,
   "id": "8eb9c930",
   "metadata": {},
   "outputs": [],
   "source": [
    "### All imports we will need\n",
    "import cv2\n",
    "import numpy as np\n",
    "import matplotlib.pyplot as plt\n",
    "\n",
    "# use interactive plots\n",
    "%matplotlib qt "
   ]
  },
  {
   "cell_type": "code",
   "execution_count": 2,
   "id": "c0e985b9",
   "metadata": {},
   "outputs": [],
   "source": [
    "#### set debug to false when imported from another "
   ]
  },
  {
   "cell_type": "code",
   "execution_count": 3,
   "id": "4ac0e25d",
   "metadata": {},
   "outputs": [],
   "source": [
    "def show_images(images, titles=None):\n",
    "    # This function is used to show image(s) with titles by sending an array of images and an array of associated titles.\n",
    "    # images[0] will be drawn with the title titles[0] if exists\n",
    "    # You aren't required to understand this function, use it as-is.\n",
    "    n_ims = len(images)\n",
    "    if titles is None:\n",
    "        titles = ['(%d)' % i for i in range(1, n_ims + 1)]\n",
    "    fig = plt.figure()\n",
    "    n = 1\n",
    "    for image, title in zip(images, titles):\n",
    "        a = fig.add_subplot(1, n_ims, n)\n",
    "        if image.ndim == 2:\n",
    "            plt.gray()\n",
    "        plt.imshow(image)\n",
    "        a.set_title(title)\n",
    "        n += 1\n",
    "    fig.set_size_inches(np.array(fig.get_size_inches()) * n_ims)\n",
    "    plt.show()"
   ]
  },
  {
   "cell_type": "code",
   "execution_count": 4,
   "id": "7cf4db04",
   "metadata": {},
   "outputs": [],
   "source": [
    "#Convert BGR image to Binary with threshold=150\n",
    "def toBianry(img,threshold=150):\n",
    "   \n",
    "    # Convert the image to grayscale\n",
    "    gray_scale= cv2.cvtColor(img, cv2.COLOR_BGR2GRAY )\n",
    "\n",
    "    # Blur the image to remove the noise (apply a 3x3 filter) (~1 line)\n",
    "    blured_img= cv2.blur(gray_scale,(3,3))\n",
    "\n",
    "    _,thresholded_img = cv2.threshold(blured_img, threshold, 255, cv2.THRESH_BINARY_INV)\n",
    "    return thresholded_img"
   ]
  },
  {
   "cell_type": "code",
   "execution_count": null,
   "id": "cbc229be",
   "metadata": {},
   "outputs": [],
   "source": []
  }
 ],
 "metadata": {
  "kernelspec": {
   "display_name": "Python 3 (ipykernel)",
   "language": "python",
   "name": "python3"
  },
  "language_info": {
   "codemirror_mode": {
    "name": "ipython",
    "version": 3
   },
   "file_extension": ".py",
   "mimetype": "text/x-python",
   "name": "python",
   "nbconvert_exporter": "python",
   "pygments_lexer": "ipython3",
   "version": "3.9.12"
  }
 },
 "nbformat": 4,
 "nbformat_minor": 5
}
