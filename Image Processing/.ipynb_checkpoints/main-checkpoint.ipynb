{
 "cells": [
  {
   "cell_type": "code",
   "execution_count": 1,
   "metadata": {},
   "outputs": [],
   "source": [
    "### All imports we will need\n",
    "import cv2\n",
    "import numpy as np\n",
    "import math\n",
    "import glob\n",
    "import matplotlib.pyplot as plt\n",
    "from mpl_toolkits.mplot3d import Axes3D\n",
    "\n",
    "# use interactive plots\n",
    "%matplotlib qt"
   ]
  },
  {
   "cell_type": "code",
   "execution_count": 2,
   "metadata": {},
   "outputs": [
    {
     "name": "stdout",
     "output_type": "stream",
     "text": [
      "21\n"
     ]
    }
   ],
   "source": [
    "# img = cv2.imread('imgs/image1.jpg')\n",
    "# # cv2.imshow('image', img)\n",
    "# # edit_image=preprocess(img)\n",
    "# # cv2.imshow('edit_image', edit_image)\n",
    "# gray_scale= cv2.cvtColor(img, cv2.COLOR_BGR2GRAY )\n",
    "# contours, hierarchy = cv2.findContours(gray_scale, cv2.RETR_TREE, cv2.CHAIN_APPROX_SIMPLE)\n",
    "# print(len(contours))"
   ]
  },
  {
   "cell_type": "code",
   "execution_count": 6,
   "metadata": {},
   "outputs": [
    {
     "name": "stdout",
     "output_type": "stream",
     "text": [
      "(947, 343)\n",
      "x1: 325 y1: 4 x2: 342 y2: 338\n",
      "x1: 62 y1: 516 x2: 281 y2: 305\n",
      "x1: 64 y1: 337 x2: 293 y2: 558\n",
      "x1: 36 y1: 266 x2: 40 y2: 144\n",
      "x1: 37 y1: 556 x2: 262 y2: 339\n",
      "x1: 44 y1: 302 x2: 273 y2: 523\n",
      "x1: 29 y1: 812 x2: 36 y2: 616\n",
      "x1: 274 y1: 109 x2: 281 y2: 304\n",
      "x1: 304 y1: 598 x2: 311 y2: 743\n",
      "x1: 172 y1: 440 x2: 292 y2: 556\n"
     ]
    }
   ],
   "source": [
    "#Read Img\n",
    "img = cv2.imread('imgs/image4.jpg')\n",
    "\n",
    "#Convert To Gray Scale\n",
    "gray = cv2.cvtColor(img,cv2.COLOR_BGR2GRAY)\n",
    "cv2.imshow('Gray image',gray)\n",
    "\n",
    "#Edge Detection [i/p must be gray Scale image]\n",
    "edges = cv2.Canny(gray,50,150,apertureSize = 3)#there is some noise here we need to remove it\n",
    "cv2.imshow('edge_image', edges)\n",
    "\n",
    "# Hough Lines Detection\n",
    "# To apply the Transform, first an edge detection pre-processing is desirable.\n",
    "lines = cv2.HoughLinesP(edges, 1, np.pi/180, 100, minLineLength=100, maxLineGap=50)\n",
    "# Draw lines on the image\n",
    "for line in lines:\n",
    "    x1, y1, x2, y2 = line[0]\n",
    "    cv2.line(img, (x1, y1), (x2, y2), (255, 0, 0), 3)\n",
    "cv2.imshow('Straight Lines Detected', img)\n",
    "\n",
    "#Matrix of Endpoints and start points of the straight lines\n",
    "Straight_Lines=np.ones(np.shape(img)[0:2])\n",
    "print(np.shape(Straight_Lines))\n",
    "\n",
    "for line in lines:\n",
    "    x1, y1, x2, y2 = line[0]\n",
    "    Straight_Lines[y1,x1]=0\n",
    "    Straight_Lines[y2,x2]=0\n",
    "    print('x1:',x1,'y1:',y1,'x2:',x2,'y2:',y2)\n",
    "# print(lines)\n",
    "\n",
    "cv2.imshow('Straight Lines Image', Straight_Lines)\n",
    "# print(np.shape(img))\n",
    "\n",
    "\n",
    "# edit_image=preprocess(img)\n",
    "# cv2.imshow('edit_image', edit_image)\n",
    "# contours, hierarchy = cv2.findContours(gray_scale, cv2.RETR_TREE, cv2.CHAIN_APPROX_SIMPLE)\n",
    "# print(len(contours))"
   ]
  },
  {
   "cell_type": "code",
   "execution_count": 4,
   "metadata": {},
   "outputs": [],
   "source": [
    "#Construct Array of \n",
    "\n",
    "#Canny Edge Detection"
   ]
  },
  {
   "cell_type": "code",
   "execution_count": null,
   "metadata": {},
   "outputs": [],
   "source": []
  }
 ],
 "metadata": {
  "kernelspec": {
   "display_name": "Python 3 (ipykernel)",
   "language": "python",
   "name": "python3"
  },
  "language_info": {
   "codemirror_mode": {
    "name": "ipython",
    "version": 3
   },
   "file_extension": ".py",
   "mimetype": "text/x-python",
   "name": "python",
   "nbconvert_exporter": "python",
   "pygments_lexer": "ipython3",
   "version": "3.9.12"
  }
 },
 "nbformat": 4,
 "nbformat_minor": 4
}
