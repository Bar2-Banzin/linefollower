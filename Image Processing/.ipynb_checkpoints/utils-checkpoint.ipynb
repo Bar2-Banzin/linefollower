{
 "cells": [
  {
   "cell_type": "code",
   "execution_count": 1,
   "id": "3cd039f6",
   "metadata": {},
   "outputs": [],
   "source": [
    "### All imports we will need\n",
    "import cv2\n",
    "import numpy as np\n",
    "import matplotlib.pyplot as plt\n",
    "\n",
    "# use interactive plots\n",
    "%matplotlib qt "
   ]
  },
  {
   "cell_type": "code",
   "execution_count": 2,
   "id": "4c2c5f35",
   "metadata": {},
   "outputs": [],
   "source": [
    "#RGB\n",
    "def show_images(images, titles=None,BGR=False):\n",
    "    # This function is used to show image(s) with titles by sending an array of images and an array of associated titles.\n",
    "    # images[0] will be drawn with the title titles[0] if exists\n",
    "    # You aren't required to understand this function, use it as-is.\n",
    "    n_ims = len(images)\n",
    "    if titles is None:\n",
    "        titles = ['(%d)' % i for i in range(1, n_ims + 1)]\n",
    "    fig = plt.figure()\n",
    "    n = 1\n",
    "    for image, title in zip(images, titles):\n",
    "        a = fig.add_subplot(1, n_ims, n)\n",
    "        if image.ndim == 2:\n",
    "            plt.gray()\n",
    "        if(BGR):\n",
    "            image=cv2.cvtColor(image, cv2.COLOR_BGR2RGB)\n",
    "        plt.imshow(image)\n",
    "        a.set_title(title)\n",
    "        n += 1\n",
    "    fig.set_size_inches(np.array(fig.get_size_inches()) * n_ims)\n",
    "    plt.show()"
   ]
  },
  {
   "cell_type": "code",
   "execution_count": 3,
   "id": "4e69748b",
   "metadata": {},
   "outputs": [],
   "source": [
    "#Convert BGR image to Binary with threshold=150\n",
    "def toBianry(img,threshold=150):\n",
    "   \n",
    "    # Convert the image to grayscale\n",
    "    gray_scale= cv2.cvtColor(img, cv2.COLOR_BGR2GRAY )\n",
    "\n",
    "    # Blur the image to remove the noise (apply a 3x3 filter)\n",
    "    blured_img= cv2.blur(gray_scale,(5,5))\n",
    "\n",
    "    _,thresholded_img = cv2.threshold(blured_img, threshold, 255, cv2.THRESH_BINARY_INV)\n",
    "    return thresholded_img"
   ]
  },
  {
   "cell_type": "code",
   "execution_count": 4,
   "id": "7ef2ef28",
   "metadata": {},
   "outputs": [],
   "source": [
    "def on_line (x1,y1,x2,y2,x,y,maxthershold):\n",
    "    # Calculate the coefficients. This line answers the initial question.\n",
    "    coef = np.polyfit([x1,x2],[y1,y2],1)\n",
    "    poly1d_fn = np.poly1d(coef)\n",
    "    difference=abs(y-poly1d_fn(x))\n",
    "    if(difference>maxthershold):\n",
    "        return False\n",
    "    return True"
   ]
  },
  {
   "cell_type": "code",
   "execution_count": 5,
   "id": "e400d21f",
   "metadata": {},
   "outputs": [],
   "source": [
    "#Takes BGR Image\n",
    "def detect_red(image_original):\n",
    "\n",
    "    result = image_original.copy()\n",
    "    image = cv2.cvtColor(image_original, cv2.COLOR_BGR2HSV)\n",
    "\n",
    "    # lower boundary RED color range values; Hue (0 - 10)\n",
    "    lower1 = np.array([0, 100, 20])\n",
    "    upper1 = np.array([10, 255, 255])\n",
    "\n",
    "    # upper boundary RED color range values; Hue (160 - 180)\n",
    "    lower2 = np.array([160,100,20])\n",
    "    upper2 = np.array([179,255,255])\n",
    "\n",
    "    lower_mask = cv2.inRange(image, lower1, upper1)\n",
    "    upper_mask = cv2.inRange(image, lower2, upper2)\n",
    "    \n",
    "#     cv2.imshow('lower_mask', lower_mask)\n",
    "#     cv2.imshow('upper_mask', upper_mask)\n",
    "\n",
    "    full_mask = lower_mask + upper_mask;\n",
    "\n",
    "    result = cv2.bitwise_and(result, result, mask=full_mask)\n",
    "\n",
    "    cv2.imshow('mask', full_mask)\n",
    "    cv2.imshow('result', result)\n",
    "\n",
    "    \n",
    "#     cv2.waitKey(0)\n",
    "#     cv2.destroyAllWindows()\n",
    "    return (full_mask,result)"
   ]
  },
  {
   "cell_type": "code",
   "execution_count": 6,
   "id": "b486761d",
   "metadata": {},
   "outputs": [],
   "source": [
    "# Lower Limit: (50, 100, 100) \n",
    "# Upper Limit (70, 255, 255)\n",
    "def detect_blue(image_original):\n",
    "\n",
    "    \n",
    "    result = image_original.copy()\n",
    "    image = cv2.cvtColor(image_original, cv2.COLOR_BGR2HSV)\n",
    "\n",
    "    lower1 = np.array([55, 0, 0])\n",
    "    upper1 = np.array([118, 255, 255])\n",
    "\n",
    "    lower_mask = cv2.inRange(image, lower1, upper1)\n",
    "#     upper_mask = cv2.inRange(image, lower2, upper2)\n",
    "    \n",
    "#     cv2.imshow('lower_mask blue', lower_mask)\n",
    "#     cv2.imshow('upper_mask', upper_mask)\n",
    "\n",
    "#     full_mask = lower_mask + upper_mask;\n",
    "    full_mask = lower_mask ;\n",
    "\n",
    "\n",
    "    result = cv2.bitwise_and(result, result, mask=full_mask)\n",
    "\n",
    "\n",
    "#     cv2.waitKey(0)\n",
    "#     cv2.destroyAllWindows()\n",
    "    return (full_mask,result)"
   ]
  },
  {
   "cell_type": "code",
   "execution_count": 7,
   "id": "11ac4b13",
   "metadata": {},
   "outputs": [],
   "source": [
    "image_original = cv2.imread('car/blue.jpeg')\n",
    "# cv2.imshow('Original', image_original)\n",
    "\n",
    "full_mask,result=detect_blue(image_original)\n",
    "# cv2.imshow('mask_blue', full_mask)\n",
    "# cv2.imshow('result_blue', result)\n",
    "\n",
    "\n",
    "image_original = cv2.imread('car/1.jpeg')\n",
    "# cv2.imshow('Original', image_original)\n",
    "\n",
    "full_mask,result=detect_blue(image_original)\n",
    "# cv2.imshow('mask_red', full_mask)\n",
    "# cv2.imshow('result_red', result)\n",
    "\n"
   ]
  },
  {
   "cell_type": "code",
   "execution_count": 8,
   "id": "140c11ec",
   "metadata": {},
   "outputs": [],
   "source": [
    "# red = np.uint8([[[255, 0, 0]]])\n",
    "# hsvRed = cv2.cvtColor(red, cv2.COLOR_BGR2HSV)"
   ]
  },
  {
   "cell_type": "code",
   "execution_count": 9,
   "id": "578f406c",
   "metadata": {},
   "outputs": [],
   "source": [
    "# print(hsvRed)"
   ]
  },
  {
   "cell_type": "code",
   "execution_count": 10,
   "id": "ed8b4218",
   "metadata": {},
   "outputs": [],
   "source": [
    "# full_mask,result=detect_red(image_original,hue=120)\n",
    "# cv2.imshow('mask', full_mask)\n",
    "# cv2.imshow('result', result)"
   ]
  },
  {
   "cell_type": "code",
   "execution_count": 11,
   "id": "fdaddf43",
   "metadata": {},
   "outputs": [],
   "source": [
    "# image_original = cv2.imread('car/blue.jpeg')\n",
    "# cv2.imshow('Original', image_original)\n",
    "\n",
    "# hsv = cv2.cvtColor(image_original, cv2.COLOR_BGR2HSV)\n",
    "# cv2.imshow('HSV', hsv)\n",
    "\n",
    "# low_blue = np.array([55, 0, 0])\n",
    "# high_blue = np.array([118, 255, 255])\n",
    "# mask = cv2.inRange(hsv, low_blue, high_blue)\n",
    "# cv2.imshow('mask', mask)\n",
    "\n",
    "\n"
   ]
  },
  {
   "cell_type": "code",
   "execution_count": null,
   "id": "7e2c24b3",
   "metadata": {},
   "outputs": [],
   "source": []
  }
 ],
 "metadata": {
  "kernelspec": {
   "display_name": "Python 3 (ipykernel)",
   "language": "python",
   "name": "python3"
  },
  "language_info": {
   "codemirror_mode": {
    "name": "ipython",
    "version": 3
   },
   "file_extension": ".py",
   "mimetype": "text/x-python",
   "name": "python",
   "nbconvert_exporter": "python",
   "pygments_lexer": "ipython3",
   "version": "3.9.12"
  }
 },
 "nbformat": 4,
 "nbformat_minor": 5
}
